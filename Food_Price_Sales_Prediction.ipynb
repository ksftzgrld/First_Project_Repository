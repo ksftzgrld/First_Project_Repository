{
  "nbformat": 4,
  "nbformat_minor": 0,
  "metadata": {
    "colab": {
      "provenance": [],
      "collapsed_sections": [],
      "authorship_tag": "ABX9TyNJfr8+fe9q5jbAoS2mFL1m",
      "include_colab_link": true
    },
    "kernelspec": {
      "name": "python3",
      "display_name": "Python 3"
    },
    "language_info": {
      "name": "python"
    }
  },
  "cells": [
    {
      "cell_type": "markdown",
      "metadata": {
        "id": "view-in-github",
        "colab_type": "text"
      },
      "source": [
        "<a href=\"https://colab.research.google.com/github/ksftzgrld/First_Project_Repository/blob/main/Food_Price_Sales_Prediction.ipynb\" target=\"_parent\"><img src=\"https://colab.research.google.com/assets/colab-badge.svg\" alt=\"Open In Colab\"/></a>"
      ]
    },
    {
      "cell_type": "markdown",
      "source": [
        "# Food Price Sales Prediction - Project 1 - Part 1\n",
        "  - Kevin S. Fitzgerald"
      ],
      "metadata": {
        "id": "Z3uaBPzUo-Le"
      }
    },
    {
      "cell_type": "markdown",
      "source": [
        "## Loading Data"
      ],
      "metadata": {
        "id": "OjlmEwteorKA"
      }
    },
    {
      "cell_type": "code",
      "source": [],
      "metadata": {
        "id": "U99DcVuLoGrA"
      },
      "execution_count": null,
      "outputs": []
    },
    {
      "cell_type": "markdown",
      "source": [
        "## Cleaning Data"
      ],
      "metadata": {
        "id": "6CAVItjfok22"
      }
    },
    {
      "cell_type": "code",
      "source": [],
      "metadata": {
        "id": "2t1XCGvwoP6r"
      },
      "execution_count": null,
      "outputs": []
    },
    {
      "cell_type": "markdown",
      "source": [
        "## Exploratory Visuals"
      ],
      "metadata": {
        "id": "JOZmXJ_XoVYS"
      }
    },
    {
      "cell_type": "code",
      "source": [],
      "metadata": {
        "id": "4bSvakv1o27F"
      },
      "execution_count": null,
      "outputs": []
    },
    {
      "cell_type": "markdown",
      "source": [
        "## Explanatory Visuals"
      ],
      "metadata": {
        "id": "X2HMHck6o4Kx"
      }
    }
  ]
}